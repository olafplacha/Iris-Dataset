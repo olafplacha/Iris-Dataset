{
 "cells": [
  {
   "cell_type": "markdown",
   "metadata": {},
   "source": [
    "### Trying different simple algorithms on iris dataset"
   ]
  },
  {
   "cell_type": "code",
   "execution_count": 1,
   "metadata": {
    "collapsed": true
   },
   "outputs": [],
   "source": [
    "#import a dataset\n",
    "from sklearn import datasets\n",
    "iris = datasets.load_iris()"
   ]
  },
  {
   "cell_type": "code",
   "execution_count": 2,
   "metadata": {
    "collapsed": true
   },
   "outputs": [],
   "source": [
    "X = iris.data\n",
    "Y = iris.target"
   ]
  },
  {
   "cell_type": "code",
   "execution_count": 3,
   "metadata": {
    "collapsed": false
   },
   "outputs": [
    {
     "name": "stdout",
     "output_type": "stream",
     "text": [
      "Number of examples:  150\n"
     ]
    }
   ],
   "source": [
    "print(\"Number of examples: \", len(X))"
   ]
  },
  {
   "cell_type": "markdown",
   "metadata": {},
   "source": [
    "<h4><center>Below you can see what each column means</center><h4>\n",
    "![iris dataset](iris2.png)"
   ]
  },
  {
   "cell_type": "markdown",
   "metadata": {},
   "source": [
    "### Defining a couple of algorithms used for predictions"
   ]
  },
  {
   "cell_type": "code",
   "execution_count": 5,
   "metadata": {
    "collapsed": false
   },
   "outputs": [],
   "source": [
    "#import a function dividing our data into training and testing sets\n",
    "from sklearn.cross_validation import train_test_split\n",
    "#import decision tree clasifier, kNN and SVM\n",
    "from sklearn import tree, neighbors, svm\n",
    "#importing metrics to assess the algorithm's accuracy\n",
    "from sklearn.metrics import accuracy_score"
   ]
  },
  {
   "cell_type": "code",
   "execution_count": 6,
   "metadata": {
    "collapsed": true
   },
   "outputs": [],
   "source": [
    "def decision_tree(X, Y):\n",
    "    \"\"\"\n",
    "    Inputs:\n",
    "    -> X - feature array\n",
    "    -> Y - labels vector\n",
    "    Returns:\n",
    "    -> accuracy - accuracy on testing set\n",
    "    \"\"\"\n",
    "    #divide data\n",
    "    X_train, X_test, y_train, y_test = train_test_split(X, Y, test_size = .5)\n",
    "    #build Decision Tree Classifier and utilize on our training data\n",
    "    my_classifier = tree.DecisionTreeClassifier()\n",
    "    my_classifier.fit(X_train, y_train)\n",
    "    #predict the labels of testing data\n",
    "    predictions = my_classifier.predict(X_test)\n",
    "    #work out the accuracy\n",
    "    accuracy = accuracy_score(predictions, y_test)\n",
    "    \n",
    "    return accuracy"
   ]
  },
  {
   "cell_type": "code",
   "execution_count": 7,
   "metadata": {
    "collapsed": true
   },
   "outputs": [],
   "source": [
    "def kNN(X, Y):\n",
    "    \"\"\"\n",
    "    Inputs:\n",
    "    -> X - feature array\n",
    "    -> Y - labels vector\n",
    "    Returns:\n",
    "    -> accuracy - accuracy on testing set\n",
    "    \"\"\"\n",
    "    #divide data\n",
    "    X_train, X_test, y_train, y_test = train_test_split(X, Y, test_size = .5)\n",
    "    #build kNN Classifier and utilize in our training data\n",
    "    my_classifier = neighbors.KNeighborsClassifier(n_neighbors = 4)\n",
    "    my_classifier.fit(X_train, y_train)\n",
    "    #predict the labels of testing data\n",
    "    predictions = my_classifier.predict(X_test)\n",
    "    #work out the accuracy\n",
    "    accuracy = accuracy_score(predictions, y_test)\n",
    "    \n",
    "    return accuracy"
   ]
  },
  {
   "cell_type": "code",
   "execution_count": 8,
   "metadata": {
    "collapsed": false
   },
   "outputs": [],
   "source": [
    "def SVM(X, Y):\n",
    "    \"\"\"\n",
    "    Inputs:\n",
    "    -> X - feature array\n",
    "    -> Y - labels vector\n",
    "    Returns:\n",
    "    -> accuracy - accuracy on testing set\n",
    "    \"\"\"\n",
    "    #divide data\n",
    "    X_train, X_test, y_train, y_test = train_test_split(X, Y, test_size = .5)\n",
    "    #build kNN Classifier and utilize in our training data\n",
    "    my_classifier = svm.SVC()\n",
    "    my_classifier.fit(X_train, y_train)\n",
    "    #predict the labels of testing data\n",
    "    predictions = my_classifier.predict(X_test)\n",
    "    #work out the accuracy\n",
    "    accuracy = accuracy_score(predictions, y_test)\n",
    "    \n",
    "    return accuracy"
   ]
  },
  {
   "cell_type": "markdown",
   "metadata": {},
   "source": [
    "### Building the main function"
   ]
  },
  {
   "cell_type": "code",
   "execution_count": 9,
   "metadata": {
    "collapsed": false
   },
   "outputs": [],
   "source": [
    "def model(X, Y, num_of_iter, algorithm):\n",
    "    \"\"\"\n",
    "    Inputs:\n",
    "    -> X - feature array\n",
    "    -> Y - labels vector\n",
    "    -> num_of_iter - specifies how many times perform learning\n",
    "    -> algorithm - specifies what algorithm to use (among decision_tree, kNN and SVM)\n",
    "    Returns:\n",
    "    -> performance - mean accuracacy over every training cycle\n",
    "    \"\"\"\n",
    "    #list for the algorithm's accuracy\n",
    "    results = []\n",
    "    \n",
    "    if algorithm == \"decision_tree\":\n",
    "        \n",
    "        for i in range(num_of_iter):\n",
    "            accuracy = decision_tree(X, Y)\n",
    "            results.append(accuracy)\n",
    "            \n",
    "    elif algorithm == \"kNN\":\n",
    "        \n",
    "        for i in range(num_of_iter):\n",
    "            accuracy = kNN(X, Y)\n",
    "            results.append(accuracy) \n",
    "            \n",
    "    elif algorithm == \"SVM\":\n",
    "        \n",
    "        for i in range(num_of_iter):\n",
    "            accuracy = SVM(X, Y)\n",
    "            results.append(accuracy) \n",
    "    else:\n",
    "        return \"Ops! It seems like we don't support the given algorithm!\"\n",
    "    \n",
    "    performance = round(sum(results)/float(len(results)),4)\n",
    "    \n",
    "    return performance"
   ]
  },
  {
   "cell_type": "markdown",
   "metadata": {},
   "source": [
    "### Now we can compare the algorithms' performance "
   ]
  },
  {
   "cell_type": "code",
   "execution_count": 10,
   "metadata": {
    "collapsed": true
   },
   "outputs": [],
   "source": [
    "#we will perform learning 10,000 times to gain a good estimation of an algorithm's performance\n",
    "num_of_iter = 10000"
   ]
  },
  {
   "cell_type": "code",
   "execution_count": 11,
   "metadata": {
    "collapsed": false
   },
   "outputs": [],
   "source": [
    "algorithm = \"decision_tree\"\n",
    "decision_tree_performance = model(X, Y, num_of_iter, algorithm)\n",
    "\n",
    "algorithm = \"kNN\"\n",
    "kNN_performance = model(X, Y, num_of_iter, algorithm)\n",
    "\n",
    "algorithm = \"SVM\"\n",
    "SVM_performance = model(X, Y, num_of_iter, algorithm)"
   ]
  },
  {
   "cell_type": "code",
   "execution_count": 12,
   "metadata": {
    "collapsed": false
   },
   "outputs": [
    {
     "name": "stdout",
     "output_type": "stream",
     "text": [
      "-----------------------------------------\n",
      "Training performed on 10000 iterations\n",
      "-----------------------------------------\n",
      "Results:\n",
      "Decision Tree's Accuracy: 0.9439\n",
      "KNN's Accuracy: 0.9527\n",
      "SVM's Accuracy: 0.9641\n",
      "-----------------------------------------\n"
     ]
    }
   ],
   "source": [
    "print(\"-----------------------------------------\")\n",
    "print(\"Training performed on\", num_of_iter, \"iterations\")\n",
    "print(\"-----------------------------------------\")\n",
    "print(\"Results:\")\n",
    "print(\"Decision Tree's Accuracy:\", decision_tree_performance)\n",
    "print(\"KNN's Accuracy:\", kNN_performance)\n",
    "print(\"SVM's Accuracy:\", SVM_performance)\n",
    "print(\"-----------------------------------------\")"
   ]
  }
 ],
 "metadata": {
  "kernelspec": {
   "display_name": "Python 3",
   "language": "python",
   "name": "python3"
  },
  "language_info": {
   "codemirror_mode": {
    "name": "ipython",
    "version": 3
   },
   "file_extension": ".py",
   "mimetype": "text/x-python",
   "name": "python",
   "nbconvert_exporter": "python",
   "pygments_lexer": "ipython3",
   "version": "3.6.0"
  }
 },
 "nbformat": 4,
 "nbformat_minor": 2
}
